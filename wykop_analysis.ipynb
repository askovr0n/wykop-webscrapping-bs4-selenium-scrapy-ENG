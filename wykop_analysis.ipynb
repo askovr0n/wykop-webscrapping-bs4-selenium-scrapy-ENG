{
 "cells": [
  {
   "cell_type": "markdown",
   "metadata": {},
   "source": [
    "## Webscrapping WYKOP.PL - Short data analysis"
   ]
  },
  {
   "cell_type": "code",
   "execution_count": 3,
   "metadata": {},
   "outputs": [],
   "source": [
    "# Handling the data\n",
    "import pandas as pd\n",
    "import numpy as np\n",
    "import datetime\n",
    "\n",
    "# Visualisations\n",
    "import matplotlib.pyplot as plt\n",
    "import seaborn as sns\n",
    "%matplotlib inline\n",
    "\n",
    "import warnings\n",
    "warnings.filterwarnings(\"ignore\")"
   ]
  },
  {
   "cell_type": "code",
   "execution_count": 4,
   "metadata": {},
   "outputs": [
    {
     "data": {
      "text/html": [
       "<div>\n",
       "<style scoped>\n",
       "    .dataframe tbody tr th:only-of-type {\n",
       "        vertical-align: middle;\n",
       "    }\n",
       "\n",
       "    .dataframe tbody tr th {\n",
       "        vertical-align: top;\n",
       "    }\n",
       "\n",
       "    .dataframe thead th {\n",
       "        text-align: right;\n",
       "    }\n",
       "</style>\n",
       "<table border=\"1\" class=\"dataframe\">\n",
       "  <thead>\n",
       "    <tr style=\"text-align: right;\">\n",
       "      <th></th>\n",
       "      <th>dislikes</th>\n",
       "      <th>hashtags</th>\n",
       "      <th>likes</th>\n",
       "      <th>nickname</th>\n",
       "      <th>title</th>\n",
       "      <th>views</th>\n",
       "    </tr>\n",
       "  </thead>\n",
       "  <tbody>\n",
       "    <tr>\n",
       "      <th>0</th>\n",
       "      <td>4</td>\n",
       "      <td>europa,rosja,ukraina,wojna,wydarzenia,ruskimir</td>\n",
       "      <td>45</td>\n",
       "      <td>Kolekcjoner_dusz</td>\n",
       "      <td>Kolejna wymiana jeńców. Do domu 14 Ukraińców, ...</td>\n",
       "      <td>&lt;1 tys.</td>\n",
       "    </tr>\n",
       "    <tr>\n",
       "      <th>1</th>\n",
       "      <td>0</td>\n",
       "      <td>polska,slask,odpady,afera,kryminalne,wydarzenia</td>\n",
       "      <td>301</td>\n",
       "      <td>Szewczenko</td>\n",
       "      <td>Zamiast neutralizować zakopywali odpady pokopa...</td>\n",
       "      <td>2 tys.</td>\n",
       "    </tr>\n",
       "    <tr>\n",
       "      <th>2</th>\n",
       "      <td>0</td>\n",
       "      <td>europa,niemcy,rosja,nordstream2,ukraina</td>\n",
       "      <td>2449</td>\n",
       "      <td>Szewczenko</td>\n",
       "      <td>Niemcy. Zaginęły dokumenty ws. fundacji klimat...</td>\n",
       "      <td>9.1 tys.</td>\n",
       "    </tr>\n",
       "    <tr>\n",
       "      <th>3</th>\n",
       "      <td>12</td>\n",
       "      <td>swiat,rosja,ukraina,wojna,europa,putin</td>\n",
       "      <td>583</td>\n",
       "      <td>RadioZET</td>\n",
       "      <td>Rosjanie strzelają do swoich. „Są zmęczeni, be...</td>\n",
       "      <td>9.9 tys.</td>\n",
       "    </tr>\n",
       "    <tr>\n",
       "      <th>4</th>\n",
       "      <td>12</td>\n",
       "      <td>europa,ukraina</td>\n",
       "      <td>617</td>\n",
       "      <td>Vladimir777</td>\n",
       "      <td>200 tanks, Grads, and missiles: Poland transfe...</td>\n",
       "      <td>11.3 tys.</td>\n",
       "    </tr>\n",
       "  </tbody>\n",
       "</table>\n",
       "</div>"
      ],
      "text/plain": [
       "   dislikes                                         hashtags  likes  \\\n",
       "0         4   europa,rosja,ukraina,wojna,wydarzenia,ruskimir     45   \n",
       "1         0  polska,slask,odpady,afera,kryminalne,wydarzenia    301   \n",
       "2         0          europa,niemcy,rosja,nordstream2,ukraina   2449   \n",
       "3        12           swiat,rosja,ukraina,wojna,europa,putin    583   \n",
       "4        12                                   europa,ukraina    617   \n",
       "\n",
       "           nickname                                              title  \\\n",
       "0  Kolekcjoner_dusz  Kolejna wymiana jeńców. Do domu 14 Ukraińców, ...   \n",
       "1        Szewczenko  Zamiast neutralizować zakopywali odpady pokopa...   \n",
       "2        Szewczenko  Niemcy. Zaginęły dokumenty ws. fundacji klimat...   \n",
       "3          RadioZET  Rosjanie strzelają do swoich. „Są zmęczeni, be...   \n",
       "4       Vladimir777  200 tanks, Grads, and missiles: Poland transfe...   \n",
       "\n",
       "       views  \n",
       "0    <1 tys.  \n",
       "1     2 tys.  \n",
       "2   9.1 tys.  \n",
       "3   9.9 tys.  \n",
       "4  11.3 tys.  "
      ]
     },
     "execution_count": 4,
     "metadata": {},
     "output_type": "execute_result"
    }
   ],
   "source": [
    "wykop_org = pd.read_csv('wykop.csv')\n",
    "wykop = wykop_org.copy()\n",
    "wykop.head()"
   ]
  },
  {
   "cell_type": "code",
   "execution_count": 5,
   "metadata": {},
   "outputs": [
    {
     "data": {
      "text/plain": [
       "dislikes     int64\n",
       "hashtags    object\n",
       "likes        int64\n",
       "nickname    object\n",
       "title       object\n",
       "views       object\n",
       "dtype: object"
      ]
     },
     "execution_count": 5,
     "metadata": {},
     "output_type": "execute_result"
    }
   ],
   "source": [
    "wykop.dtypes"
   ]
  },
  {
   "cell_type": "markdown",
   "metadata": {},
   "source": [
    "For the purpose of the analysis, in the case of \"<1000\" impressions we decided to assign the value 1000."
   ]
  },
  {
   "cell_type": "code",
   "execution_count": 6,
   "metadata": {},
   "outputs": [],
   "source": [
    "# Change views\n",
    "wykop['views_new'] = wykop.views.apply(lambda x: x.split(' ')[0])\n",
    "wykop['views_new'] = wykop['views_new'].str.replace('<',' ')\n",
    "wykop['views_new'] = wykop['views_new'].astype('float32') * 1000"
   ]
  },
  {
   "cell_type": "markdown",
   "metadata": {},
   "source": [
    "### Top 5 users"
   ]
  },
  {
   "cell_type": "code",
   "execution_count": 7,
   "metadata": {},
   "outputs": [
    {
     "data": {
      "text/plain": [
       "Szu_                85\n",
       "Szewczenko          66\n",
       "Kolekcjoner_dusz    32\n",
       "Bryzoll             16\n",
       "Mercurius           13\n",
       "Name: nickname, dtype: int64"
      ]
     },
     "execution_count": 7,
     "metadata": {},
     "output_type": "execute_result"
    }
   ],
   "source": [
    "top_5_users = wykop.nickname.value_counts().head(5)\n",
    "top_5_users"
   ]
  },
  {
   "cell_type": "code",
   "execution_count": 8,
   "metadata": {},
   "outputs": [
    {
     "data": {
      "image/png": "[encoded data removed]",
      "text/plain": [
       "<Figure size 1008x360 with 3 Axes>"
      ]
     },
     "metadata": {
      "needs_background": "light"
     },
     "output_type": "display_data"
    }
   ],
   "source": [
    "numerical_features = wykop[['dislikes','likes','views_new']].columns\n",
    "data_comparison = pd.concat([wykop[wykop.nickname.isin(top_5_users.index)]['nickname'], wykop[numerical_features]], axis = 1)\n",
    "data_comparison = data_comparison.melt(id_vars='nickname')\n",
    "\n",
    "plot_top_5 = sns.catplot(\n",
    "    data=data_comparison, x='nickname', y='value',\n",
    "    col='variable', kind='box', col_wrap=4, height=5, aspect=0.7, sharey=False\n",
    ")\n",
    "\n",
    "plot_top_5.fig.subplots_adjust(top=0.8, wspace = 0.3)\n",
    "plot_top_5.fig.suptitle('Boxplots for top 5 users',ha = 'right', fontsize = 20)\n",
    "plot_top_5.set_xticklabels(rotation=30)\n",
    "\n",
    "titles = ['Dislikes','Likes','Views']\n",
    "\n",
    "for ax,title in zip(plot_top_5.axes.flatten(),titles):\n",
    "    ax.set_title(title, fontsize = 15)\n",
    "\n",
    "plt.show()"
   ]
  },
  {
   "cell_type": "code",
   "execution_count": 9,
   "metadata": {},
   "outputs": [
    {
     "data": {
      "text/plain": [
       "0      Kolekcjoner_dusz\n",
       "1            Szewczenko\n",
       "2            Szewczenko\n",
       "6               Bryzoll\n",
       "7            Szewczenko\n",
       "             ...       \n",
       "608          Szewczenko\n",
       "611    Kolekcjoner_dusz\n",
       "612           Mercurius\n",
       "617          Szewczenko\n",
       "625          Szewczenko\n",
       "Name: nickname, Length: 212, dtype: object"
      ]
     },
     "execution_count": 9,
     "metadata": {},
     "output_type": "execute_result"
    }
   ],
   "source": [
    "wykop[wykop.nickname.isin(top_5_users.index)]['nickname']"
   ]
  },
  {
   "cell_type": "markdown",
   "metadata": {},
   "source": [
    "### Top 5 most likeable articles"
   ]
  },
  {
   "cell_type": "code",
   "execution_count": 10,
   "metadata": {},
   "outputs": [
    {
     "data": {
      "text/html": [
       "<div>\n",
       "<style scoped>\n",
       "    .dataframe tbody tr th:only-of-type {\n",
       "        vertical-align: middle;\n",
       "    }\n",
       "\n",
       "    .dataframe tbody tr th {\n",
       "        vertical-align: top;\n",
       "    }\n",
       "\n",
       "    .dataframe thead th {\n",
       "        text-align: right;\n",
       "    }\n",
       "</style>\n",
       "<table border=\"1\" class=\"dataframe\">\n",
       "  <thead>\n",
       "    <tr style=\"text-align: right;\">\n",
       "      <th></th>\n",
       "      <th>dislikes</th>\n",
       "      <th>hashtags</th>\n",
       "      <th>likes</th>\n",
       "      <th>nickname</th>\n",
       "      <th>title</th>\n",
       "      <th>views</th>\n",
       "      <th>views_new</th>\n",
       "    </tr>\n",
       "  </thead>\n",
       "  <tbody>\n",
       "    <tr>\n",
       "      <th>437</th>\n",
       "      <td>1</td>\n",
       "      <td>polska,nauczyciele,szkola,edukacja</td>\n",
       "      <td>3489</td>\n",
       "      <td>PanSwiatla</td>\n",
       "      <td>Bójka w szkole. Nauczyciel został zawieszony, ...</td>\n",
       "      <td>22.6 tys.</td>\n",
       "      <td>22600.0</td>\n",
       "    </tr>\n",
       "    <tr>\n",
       "      <th>125</th>\n",
       "      <td>32</td>\n",
       "      <td>johnnydepp,kino,film,amberheard,swiat,prawo</td>\n",
       "      <td>3380</td>\n",
       "      <td>Castellano</td>\n",
       "      <td>Amber Heard zachęcała Johnny'ego Deppa by prze...</td>\n",
       "      <td>38 tys.</td>\n",
       "      <td>38000.0</td>\n",
       "    </tr>\n",
       "    <tr>\n",
       "      <th>112</th>\n",
       "      <td>12</td>\n",
       "      <td>polska,rosja,ekonomia</td>\n",
       "      <td>3330</td>\n",
       "      <td>arq007</td>\n",
       "      <td>Oficjalnie: Gazprom wstrzymał dostawy gazu do ...</td>\n",
       "      <td>48.8 tys.</td>\n",
       "      <td>48800.0</td>\n",
       "    </tr>\n",
       "    <tr>\n",
       "      <th>627</th>\n",
       "      <td>76</td>\n",
       "      <td>polska,ukraina,wojna</td>\n",
       "      <td>3052</td>\n",
       "      <td>Xeyo</td>\n",
       "      <td>... kacapskie auta w Berlinie.</td>\n",
       "      <td>27.2 tys.</td>\n",
       "      <td>27200.0</td>\n",
       "    </tr>\n",
       "    <tr>\n",
       "      <th>549</th>\n",
       "      <td>48</td>\n",
       "      <td>swiat,netflix,elonmusk,bekazlewactwa,kultura,r...</td>\n",
       "      <td>2953</td>\n",
       "      <td>Mistborn</td>\n",
       "      <td>Elon Musk ocenia, że Netflix traci odbiorców p...</td>\n",
       "      <td>26.7 tys.</td>\n",
       "      <td>26700.0</td>\n",
       "    </tr>\n",
       "  </tbody>\n",
       "</table>\n",
       "</div>"
      ],
      "text/plain": [
       "     dislikes                                           hashtags  likes  \\\n",
       "437         1                 polska,nauczyciele,szkola,edukacja   3489   \n",
       "125        32        johnnydepp,kino,film,amberheard,swiat,prawo   3380   \n",
       "112        12                              polska,rosja,ekonomia   3330   \n",
       "627        76                               polska,ukraina,wojna   3052   \n",
       "549        48  swiat,netflix,elonmusk,bekazlewactwa,kultura,r...   2953   \n",
       "\n",
       "       nickname                                              title      views  \\\n",
       "437  PanSwiatla  Bójka w szkole. Nauczyciel został zawieszony, ...  22.6 tys.   \n",
       "125  Castellano  Amber Heard zachęcała Johnny'ego Deppa by prze...    38 tys.   \n",
       "112      arq007  Oficjalnie: Gazprom wstrzymał dostawy gazu do ...  48.8 tys.   \n",
       "627        Xeyo                     ... kacapskie auta w Berlinie.  27.2 tys.   \n",
       "549    Mistborn  Elon Musk ocenia, że Netflix traci odbiorców p...  26.7 tys.   \n",
       "\n",
       "     views_new  \n",
       "437    22600.0  \n",
       "125    38000.0  \n",
       "112    48800.0  \n",
       "627    27200.0  \n",
       "549    26700.0  "
      ]
     },
     "execution_count": 10,
     "metadata": {},
     "output_type": "execute_result"
    }
   ],
   "source": [
    "wykop.sort_values(by = 'likes', ascending=False).head(5)"
   ]
  },
  {
   "cell_type": "markdown",
   "metadata": {},
   "source": [
    "### Top 5 most unlikeable articles"
   ]
  },
  {
   "cell_type": "code",
   "execution_count": 11,
   "metadata": {},
   "outputs": [
    {
     "data": {
      "text/html": [
       "<div>\n",
       "<style scoped>\n",
       "    .dataframe tbody tr th:only-of-type {\n",
       "        vertical-align: middle;\n",
       "    }\n",
       "\n",
       "    .dataframe tbody tr th {\n",
       "        vertical-align: top;\n",
       "    }\n",
       "\n",
       "    .dataframe thead th {\n",
       "        text-align: right;\n",
       "    }\n",
       "</style>\n",
       "<table border=\"1\" class=\"dataframe\">\n",
       "  <thead>\n",
       "    <tr style=\"text-align: right;\">\n",
       "      <th></th>\n",
       "      <th>dislikes</th>\n",
       "      <th>hashtags</th>\n",
       "      <th>likes</th>\n",
       "      <th>nickname</th>\n",
       "      <th>title</th>\n",
       "      <th>views</th>\n",
       "      <th>views_new</th>\n",
       "    </tr>\n",
       "  </thead>\n",
       "  <tbody>\n",
       "    <tr>\n",
       "      <th>620</th>\n",
       "      <td>295</td>\n",
       "      <td>polska,bekazpodludzi,teoriespiskowe,trolling,b...</td>\n",
       "      <td>949</td>\n",
       "      <td>Wiktor1975</td>\n",
       "      <td>Trolle zdemaskowane. Wykorzystują Brauna,  Cej...</td>\n",
       "      <td>8.9 tys.</td>\n",
       "      <td>8900.0</td>\n",
       "    </tr>\n",
       "    <tr>\n",
       "      <th>109</th>\n",
       "      <td>210</td>\n",
       "      <td>polska,musk,twitter,heheszki,bekazlewactwa,4ko...</td>\n",
       "      <td>984</td>\n",
       "      <td>wojna</td>\n",
       "      <td>\"Czarny dzień dla internetu\". Aktywista LGBT n...</td>\n",
       "      <td>17.9 tys.</td>\n",
       "      <td>17900.0</td>\n",
       "    </tr>\n",
       "    <tr>\n",
       "      <th>120</th>\n",
       "      <td>198</td>\n",
       "      <td>rosja,obi</td>\n",
       "      <td>2203</td>\n",
       "      <td>antonikokoszka</td>\n",
       "      <td>OBI wznawia działalność w rosji !!!</td>\n",
       "      <td>7.8 tys.</td>\n",
       "      <td>7800.0</td>\n",
       "    </tr>\n",
       "    <tr>\n",
       "      <th>84</th>\n",
       "      <td>180</td>\n",
       "      <td>twitter,heheszki,4konserwy,bekazlewactwa,bekaz...</td>\n",
       "      <td>908</td>\n",
       "      <td>Kam3l</td>\n",
       "      <td>Trzask w komentarzach jest niesamowity, Sara G...</td>\n",
       "      <td>33.1 tys.</td>\n",
       "      <td>33100.0</td>\n",
       "    </tr>\n",
       "    <tr>\n",
       "      <th>574</th>\n",
       "      <td>157</td>\n",
       "      <td>polska,historia,wojna,niemcy,rosja</td>\n",
       "      <td>1729</td>\n",
       "      <td>derek_se</td>\n",
       "      <td>Pakt, o którym musi pamiętać każdy Polak.</td>\n",
       "      <td>10 tys.</td>\n",
       "      <td>10000.0</td>\n",
       "    </tr>\n",
       "  </tbody>\n",
       "</table>\n",
       "</div>"
      ],
      "text/plain": [
       "     dislikes                                           hashtags  likes  \\\n",
       "620       295  polska,bekazpodludzi,teoriespiskowe,trolling,b...    949   \n",
       "109       210  polska,musk,twitter,heheszki,bekazlewactwa,4ko...    984   \n",
       "120       198                                          rosja,obi   2203   \n",
       "84        180  twitter,heheszki,4konserwy,bekazlewactwa,bekaz...    908   \n",
       "574       157                 polska,historia,wojna,niemcy,rosja   1729   \n",
       "\n",
       "           nickname                                              title  \\\n",
       "620      Wiktor1975  Trolle zdemaskowane. Wykorzystują Brauna,  Cej...   \n",
       "109           wojna  \"Czarny dzień dla internetu\". Aktywista LGBT n...   \n",
       "120  antonikokoszka                OBI wznawia działalność w rosji !!!   \n",
       "84            Kam3l  Trzask w komentarzach jest niesamowity, Sara G...   \n",
       "574        derek_se          Pakt, o którym musi pamiętać każdy Polak.   \n",
       "\n",
       "         views  views_new  \n",
       "620   8.9 tys.     8900.0  \n",
       "109  17.9 tys.    17900.0  \n",
       "120   7.8 tys.     7800.0  \n",
       "84   33.1 tys.    33100.0  \n",
       "574    10 tys.    10000.0  "
      ]
     },
     "execution_count": 11,
     "metadata": {},
     "output_type": "execute_result"
    }
   ],
   "source": [
    "wykop.sort_values(by = 'dislikes',ascending=False).head(5)"
   ]
  },
  {
   "cell_type": "markdown",
   "metadata": {},
   "source": [
    "### Hashtags division"
   ]
  },
  {
   "cell_type": "code",
   "execution_count": 12,
   "metadata": {},
   "outputs": [
    {
     "data": {
      "text/html": [
       "<div>\n",
       "<style scoped>\n",
       "    .dataframe tbody tr th:only-of-type {\n",
       "        vertical-align: middle;\n",
       "    }\n",
       "\n",
       "    .dataframe tbody tr th {\n",
       "        vertical-align: top;\n",
       "    }\n",
       "\n",
       "    .dataframe thead th {\n",
       "        text-align: right;\n",
       "    }\n",
       "</style>\n",
       "<table border=\"1\" class=\"dataframe\">\n",
       "  <thead>\n",
       "    <tr style=\"text-align: right;\">\n",
       "      <th></th>\n",
       "      <th>dislikes</th>\n",
       "      <th>hashtags</th>\n",
       "      <th>likes</th>\n",
       "      <th>nickname</th>\n",
       "      <th>title</th>\n",
       "      <th>views</th>\n",
       "      <th>views_new</th>\n",
       "      <th>hashtag_1</th>\n",
       "      <th>hashtag_2</th>\n",
       "      <th>hashtag_3</th>\n",
       "      <th>hashtag_4</th>\n",
       "      <th>hashtag_5</th>\n",
       "      <th>hashtag_6</th>\n",
       "      <th>hashtag_7</th>\n",
       "    </tr>\n",
       "  </thead>\n",
       "  <tbody>\n",
       "    <tr>\n",
       "      <th>0</th>\n",
       "      <td>4</td>\n",
       "      <td>europa,rosja,ukraina,wojna,wydarzenia,ruskimir</td>\n",
       "      <td>45</td>\n",
       "      <td>Kolekcjoner_dusz</td>\n",
       "      <td>Kolejna wymiana jeńców. Do domu 14 Ukraińców, ...</td>\n",
       "      <td>&lt;1 tys.</td>\n",
       "      <td>1000.0</td>\n",
       "      <td>europa</td>\n",
       "      <td>rosja</td>\n",
       "      <td>ukraina</td>\n",
       "      <td>wojna</td>\n",
       "      <td>wydarzenia</td>\n",
       "      <td>ruskimir</td>\n",
       "      <td>NaN</td>\n",
       "    </tr>\n",
       "    <tr>\n",
       "      <th>1</th>\n",
       "      <td>0</td>\n",
       "      <td>polska,slask,odpady,afera,kryminalne,wydarzenia</td>\n",
       "      <td>301</td>\n",
       "      <td>Szewczenko</td>\n",
       "      <td>Zamiast neutralizować zakopywali odpady pokopa...</td>\n",
       "      <td>2 tys.</td>\n",
       "      <td>2000.0</td>\n",
       "      <td>polska</td>\n",
       "      <td>slask</td>\n",
       "      <td>odpady</td>\n",
       "      <td>afera</td>\n",
       "      <td>kryminalne</td>\n",
       "      <td>wydarzenia</td>\n",
       "      <td>NaN</td>\n",
       "    </tr>\n",
       "    <tr>\n",
       "      <th>2</th>\n",
       "      <td>0</td>\n",
       "      <td>europa,niemcy,rosja,nordstream2,ukraina</td>\n",
       "      <td>2449</td>\n",
       "      <td>Szewczenko</td>\n",
       "      <td>Niemcy. Zaginęły dokumenty ws. fundacji klimat...</td>\n",
       "      <td>9.1 tys.</td>\n",
       "      <td>9100.0</td>\n",
       "      <td>europa</td>\n",
       "      <td>niemcy</td>\n",
       "      <td>rosja</td>\n",
       "      <td>nordstream2</td>\n",
       "      <td>ukraina</td>\n",
       "      <td>NaN</td>\n",
       "      <td>NaN</td>\n",
       "    </tr>\n",
       "    <tr>\n",
       "      <th>3</th>\n",
       "      <td>12</td>\n",
       "      <td>swiat,rosja,ukraina,wojna,europa,putin</td>\n",
       "      <td>583</td>\n",
       "      <td>RadioZET</td>\n",
       "      <td>Rosjanie strzelają do swoich. „Są zmęczeni, be...</td>\n",
       "      <td>9.9 tys.</td>\n",
       "      <td>9900.0</td>\n",
       "      <td>swiat</td>\n",
       "      <td>rosja</td>\n",
       "      <td>ukraina</td>\n",
       "      <td>wojna</td>\n",
       "      <td>europa</td>\n",
       "      <td>putin</td>\n",
       "      <td>NaN</td>\n",
       "    </tr>\n",
       "    <tr>\n",
       "      <th>4</th>\n",
       "      <td>12</td>\n",
       "      <td>europa,ukraina</td>\n",
       "      <td>617</td>\n",
       "      <td>Vladimir777</td>\n",
       "      <td>200 tanks, Grads, and missiles: Poland transfe...</td>\n",
       "      <td>11.3 tys.</td>\n",
       "      <td>11300.0</td>\n",
       "      <td>europa</td>\n",
       "      <td>ukraina</td>\n",
       "      <td>NaN</td>\n",
       "      <td>NaN</td>\n",
       "      <td>NaN</td>\n",
       "      <td>NaN</td>\n",
       "      <td>NaN</td>\n",
       "    </tr>\n",
       "  </tbody>\n",
       "</table>\n",
       "</div>"
      ],
      "text/plain": [
       "   dislikes                                         hashtags  likes  \\\n",
       "0         4   europa,rosja,ukraina,wojna,wydarzenia,ruskimir     45   \n",
       "1         0  polska,slask,odpady,afera,kryminalne,wydarzenia    301   \n",
       "2         0          europa,niemcy,rosja,nordstream2,ukraina   2449   \n",
       "3        12           swiat,rosja,ukraina,wojna,europa,putin    583   \n",
       "4        12                                   europa,ukraina    617   \n",
       "\n",
       "           nickname                                              title  \\\n",
       "0  Kolekcjoner_dusz  Kolejna wymiana jeńców. Do domu 14 Ukraińców, ...   \n",
       "1        Szewczenko  Zamiast neutralizować zakopywali odpady pokopa...   \n",
       "2        Szewczenko  Niemcy. Zaginęły dokumenty ws. fundacji klimat...   \n",
       "3          RadioZET  Rosjanie strzelają do swoich. „Są zmęczeni, be...   \n",
       "4       Vladimir777  200 tanks, Grads, and missiles: Poland transfe...   \n",
       "\n",
       "       views  views_new hashtag_1 hashtag_2 hashtag_3    hashtag_4  \\\n",
       "0    <1 tys.     1000.0    europa     rosja   ukraina        wojna   \n",
       "1     2 tys.     2000.0    polska     slask    odpady        afera   \n",
       "2   9.1 tys.     9100.0    europa    niemcy     rosja  nordstream2   \n",
       "3   9.9 tys.     9900.0     swiat     rosja   ukraina        wojna   \n",
       "4  11.3 tys.    11300.0    europa   ukraina       NaN          NaN   \n",
       "\n",
       "    hashtag_5   hashtag_6 hashtag_7  \n",
       "0  wydarzenia    ruskimir       NaN  \n",
       "1  kryminalne  wydarzenia       NaN  \n",
       "2     ukraina         NaN       NaN  \n",
       "3      europa       putin       NaN  \n",
       "4         NaN         NaN       NaN  "
      ]
     },
     "execution_count": 12,
     "metadata": {},
     "output_type": "execute_result"
    }
   ],
   "source": [
    "# Define how many additionals columns should we have\n",
    "\n",
    "def define_number_of_hashtag_cols():\n",
    "    \n",
    "    len_max = 0\n",
    "    \n",
    "    for i in range(len(wykop.hashtags)):\n",
    "        temp = len(wykop['hashtags'].str.split(',')[i])\n",
    "        if temp > len_max:\n",
    "            len_max = temp\n",
    "    return len_max\n",
    "\n",
    "def add_columns(no_of_new_cols):\n",
    "    \n",
    "    for i in range(no_of_new_cols):\n",
    "        wykop[f'hashtag_{i+1}'] = wykop['hashtags'].str.split(',').str[i]\n",
    "        \n",
    "    return wykop\n",
    "\n",
    "add_columns(define_number_of_hashtag_cols()).head() # show first 5 rows"
   ]
  },
  {
   "cell_type": "markdown",
   "metadata": {},
   "source": [
    "Now, we are going to calculate how many hashtags were used. We know, that one hashtag is a must, but our page can change dynamically. That's why, it is important to store in memory current number of scraped hashtags."
   ]
  },
  {
   "cell_type": "code",
   "execution_count": 13,
   "metadata": {},
   "outputs": [
    {
     "data": {
      "image/png": "[encoded data removed]",
      "text/plain": [
       "<Figure size 1152x504 with 1 Axes>"
      ]
     },
     "metadata": {
      "needs_background": "light"
     },
     "output_type": "display_data"
    }
   ],
   "source": [
    "temp = wykop.loc[:, 'hashtag_1':f'hashtag_{define_number_of_hashtag_cols()}'].apply(lambda x: sum(x.notna()))\n",
    "\n",
    "plt.figure(figsize = (16,7))\n",
    "ax = sns.barplot(temp.index, temp.values)\n",
    "plt.axhline(np.mean(temp), \n",
    "            color = 'black', \n",
    "            linestyle = 'dashed', \n",
    "            label=f'Mean of used hashtags: {str(round(np.mean(temp),0))}')\n",
    "plt.legend(loc='upper right')\n",
    "for annot in ax.containers:\n",
    "    ax.bar_label(annot, label_type = \"center\", size = 20)\n",
    "plt.show()"
   ]
  },
  {
   "cell_type": "markdown",
   "metadata": {},
   "source": [
    "Until hashtag_4, we decided to show the 5 most frequently occurring words"
   ]
  },
  {
   "cell_type": "code",
   "execution_count": 29,
   "metadata": {},
   "outputs": [
    {
     "data": {
      "image/png": "[encoded data removed]",
      "text/plain": [
       "<Figure size 1008x1008 with 4 Axes>"
      ]
     },
     "metadata": {
      "needs_background": "light"
     },
     "output_type": "display_data"
    }
   ],
   "source": [
    "fig, axs = plt.subplots(n_rows, n_cols, figsize = (n_cols*7, n_rows*7))\n",
    "columns = wykop.loc[:, 'hashtag_1':'hashtag_6'].columns\n",
    "n_rows = 2\n",
    "n_cols = 2\n",
    "\n",
    "for rows in range(0, n_rows):\n",
    "    for cols in range(0, n_cols):\n",
    "        \n",
    "        temp = cols\n",
    "        ax = axs[rows][cols]\n",
    "        palette = ['viridis', 'plasma']\n",
    "        temp_counts = wykop[columns[cols+rows if rows==0 else rows+cols+1]].value_counts().head()\n",
    "        sns.barplot(temp_counts.index, temp_counts.values, ax=ax, palette = palette[cols])\n",
    "        ax.set_title('Countplot for {}'.format(columns[cols+rows if rows==0 else rows+cols+1]), fontsize = 20)\n",
    "        ax.set_xlabel('hashtags', fontsize = 15)"
   ]
  },
  {
   "cell_type": "markdown",
   "metadata": {},
   "source": [
    "Let's check, if we can obtain something from title section."
   ]
  },
  {
   "cell_type": "code",
   "execution_count": 130,
   "metadata": {},
   "outputs": [
    {
     "data": {
      "text/plain": [
       "Rosjanie    14\n",
       "Rosja       14\n",
       "W            9\n",
       "Polska       8\n",
       "Wojna        6\n",
       "Name: title, dtype: int64"
      ]
     },
     "execution_count": 130,
     "metadata": {},
     "output_type": "execute_result"
    }
   ],
   "source": [
    "check_title = wykop.title.apply(lambda x: x.split(' ')[0]).value_counts().head()\n",
    "check_title"
   ]
  },
  {
   "cell_type": "markdown",
   "metadata": {},
   "source": [
    "Unluckily, not at all."
   ]
  },
  {
   "cell_type": "markdown",
   "metadata": {},
   "source": [
    "## To do: Conclusions"
   ]
  },
  {
   "cell_type": "code",
   "execution_count": null,
   "metadata": {},
   "outputs": [],
   "source": []
  }
 ],
 "metadata": {
  "kernelspec": {
   "display_name": "Python 3",
   "language": "python",
   "name": "python3"
  },
  "language_info": {
   "codemirror_mode": {
    "name": "ipython",
    "version": 3
   },
   "file_extension": ".py",
   "mimetype": "text/x-python",
   "name": "python",
   "nbconvert_exporter": "python",
   "pygments_lexer": "ipython3",
   "version": "3.8.5"
  }
 },
 "nbformat": 4,
 "nbformat_minor": 4
}
