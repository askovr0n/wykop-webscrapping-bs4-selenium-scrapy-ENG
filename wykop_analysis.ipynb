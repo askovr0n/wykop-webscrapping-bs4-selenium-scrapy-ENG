{
 "cells": [
  {
   "cell_type": "markdown",
   "metadata": {},
   "source": [
    "## Webscrapping WYKOP.PL - Short data analysis"
   ]
  },
  {
   "cell_type": "code",
   "execution_count": 1,
   "metadata": {},
   "outputs": [],
   "source": [
    "# Handling the data\n",
    "import pandas as pd\n",
    "import numpy as np\n",
    "import datetime\n",
    "\n",
    "# Visualisations\n",
    "import matplotlib.pyplot as plt\n",
    "import seaborn as sns\n",
    "%matplotlib inline\n",
    "\n",
    "import warnings\n",
    "warnings.filterwarnings(\"ignore\")"
   ]
  },
  {
   "cell_type": "code",
   "execution_count": 2,
   "metadata": {},
   "outputs": [
    {
     "data": {
      "text/html": [
       "<div>\n",
       "<style scoped>\n",
       "    .dataframe tbody tr th:only-of-type {\n",
       "        vertical-align: middle;\n",
       "    }\n",
       "\n",
       "    .dataframe tbody tr th {\n",
       "        vertical-align: top;\n",
       "    }\n",
       "\n",
       "    .dataframe thead th {\n",
       "        text-align: right;\n",
       "    }\n",
       "</style>\n",
       "<table border=\"1\" class=\"dataframe\">\n",
       "  <thead>\n",
       "    <tr style=\"text-align: right;\">\n",
       "      <th></th>\n",
       "      <th>dislikes</th>\n",
       "      <th>hashtags</th>\n",
       "      <th>likes</th>\n",
       "      <th>nickname</th>\n",
       "      <th>title</th>\n",
       "      <th>views</th>\n",
       "    </tr>\n",
       "  </thead>\n",
       "  <tbody>\n",
       "    <tr>\n",
       "      <th>0</th>\n",
       "      <td>0</td>\n",
       "      <td>technologia,nauka,zainteresowania,kosmos,mars,...</td>\n",
       "      <td>186</td>\n",
       "      <td>elektryk91</td>\n",
       "      <td>NASA ma problem z Ingenuity, marsjańskim wirol...</td>\n",
       "      <td>2.4 tys.</td>\n",
       "    </tr>\n",
       "    <tr>\n",
       "      <th>1</th>\n",
       "      <td>0</td>\n",
       "      <td>rosja,historia,polityka,zbrodniekomunistyczne</td>\n",
       "      <td>86</td>\n",
       "      <td>Qtasus2Wielgus</td>\n",
       "      <td>Badacz zbrodni NKWD został wysłany do łagru</td>\n",
       "      <td>&lt;1 tys.</td>\n",
       "    </tr>\n",
       "    <tr>\n",
       "      <th>2</th>\n",
       "      <td>14</td>\n",
       "      <td>polska,chlewobsranygownem</td>\n",
       "      <td>269</td>\n",
       "      <td>BennyHarvey</td>\n",
       "      <td>Łódzkie. Kradł znicze wrzucając do automatu st...</td>\n",
       "      <td>12.5 tys.</td>\n",
       "    </tr>\n",
       "    <tr>\n",
       "      <th>3</th>\n",
       "      <td>23</td>\n",
       "      <td>polska,kultura,rozrywka</td>\n",
       "      <td>359</td>\n",
       "      <td>Wirtualnemedia_pl</td>\n",
       "      <td>Polsat zrealizuje polską wersję „Sługi Narodu”</td>\n",
       "      <td>7.9 tys.</td>\n",
       "    </tr>\n",
       "    <tr>\n",
       "      <th>4</th>\n",
       "      <td>39</td>\n",
       "      <td>polska,technologia,amazon,afera</td>\n",
       "      <td>476</td>\n",
       "      <td>Mirxar</td>\n",
       "      <td>Strach coś zamawiać na Amazonie. Polacy płacą ...</td>\n",
       "      <td>13.4 tys.</td>\n",
       "    </tr>\n",
       "  </tbody>\n",
       "</table>\n",
       "</div>"
      ],
      "text/plain": [
       "   dislikes                                           hashtags  likes  \\\n",
       "0         0  technologia,nauka,zainteresowania,kosmos,mars,...    186   \n",
       "1         0      rosja,historia,polityka,zbrodniekomunistyczne     86   \n",
       "2        14                          polska,chlewobsranygownem    269   \n",
       "3        23                            polska,kultura,rozrywka    359   \n",
       "4        39                    polska,technologia,amazon,afera    476   \n",
       "\n",
       "            nickname                                              title  \\\n",
       "0         elektryk91  NASA ma problem z Ingenuity, marsjańskim wirol...   \n",
       "1     Qtasus2Wielgus        Badacz zbrodni NKWD został wysłany do łagru   \n",
       "2        BennyHarvey  Łódzkie. Kradł znicze wrzucając do automatu st...   \n",
       "3  Wirtualnemedia_pl     Polsat zrealizuje polską wersję „Sługi Narodu”   \n",
       "4             Mirxar  Strach coś zamawiać na Amazonie. Polacy płacą ...   \n",
       "\n",
       "       views  \n",
       "0   2.4 tys.  \n",
       "1    <1 tys.  \n",
       "2  12.5 tys.  \n",
       "3   7.9 tys.  \n",
       "4  13.4 tys.  "
      ]
     },
     "execution_count": 2,
     "metadata": {},
     "output_type": "execute_result"
    }
   ],
   "source": [
    "wykop_org = pd.read_csv('wykop.csv')\n",
    "wykop = wykop_org.copy()\n",
    "wykop.head()"
   ]
  },
  {
   "cell_type": "code",
   "execution_count": 3,
   "metadata": {},
   "outputs": [
    {
     "data": {
      "text/plain": [
       "dislikes     int64\n",
       "hashtags    object\n",
       "likes        int64\n",
       "nickname    object\n",
       "title       object\n",
       "views       object\n",
       "dtype: object"
      ]
     },
     "execution_count": 3,
     "metadata": {},
     "output_type": "execute_result"
    }
   ],
   "source": [
    "wykop.dtypes"
   ]
  },
  {
   "cell_type": "markdown",
   "metadata": {},
   "source": [
    "For the purpose of the analysis, in the case of \"<1 tys.\" impressions we decided to assign the value 1000."
   ]
  },
  {
   "cell_type": "code",
   "execution_count": 4,
   "metadata": {},
   "outputs": [],
   "source": [
    "# Change views\n",
    "wykop['views_new'] = wykop.views.apply(lambda x: x.split(' ')[0])\n",
    "wykop['views_new'] = wykop['views_new'].str.replace('<',' ')\n",
    "wykop['views_new'] = wykop['views_new'].astype('float32') * 1000"
   ]
  },
  {
   "cell_type": "markdown",
   "metadata": {},
   "source": [
    "### Top 5 users"
   ]
  },
  {
   "cell_type": "code",
   "execution_count": 5,
   "metadata": {},
   "outputs": [
    {
     "data": {
      "text/plain": [
       "Szewczenko          14\n",
       "Szu_                13\n",
       "Kolekcjoner_dusz     8\n",
       "Mercurius            5\n",
       "rol-ex               3\n",
       "Name: nickname, dtype: int64"
      ]
     },
     "execution_count": 5,
     "metadata": {},
     "output_type": "execute_result"
    }
   ],
   "source": [
    "top_5_users = wykop.nickname.value_counts().head(5)\n",
    "top_5_users"
   ]
  },
  {
   "cell_type": "code",
   "execution_count": 38,
   "metadata": {},
   "outputs": [
    {
     "data": {
      "image/png": "[encoded data removed]",
      "text/plain": [
       "<Figure size 1008x360 with 3 Axes>"
      ]
     },
     "metadata": {
      "needs_background": "light"
     },
     "output_type": "display_data"
    }
   ],
   "source": [
    "numerical_features = wykop[['dislikes','likes','views_new']].columns\n",
    "data_comparison = pd.concat([wykop[wykop.nickname.isin(top_5_users.index)]['nickname'], wykop[numerical_features]], axis = 1)\n",
    "data_comparison = data_comparison.melt(id_vars='nickname')\n",
    "\n",
    "plot_top_5 = sns.catplot(\n",
    "    data=data_comparison, x='nickname', y='value',\n",
    "    col='variable', kind='box', col_wrap=4, height=5, aspect=0.7, sharey=False\n",
    ")\n",
    "\n",
    "plot_top_5.fig.subplots_adjust(top=0.8, wspace = 0.3)\n",
    "plot_top_5.fig.suptitle('Boxplots for top 5 users',ha = 'right', fontsize = 20)\n",
    "plot_top_5.set_xticklabels(rotation=30)\n",
    "\n",
    "titles = ['Dislikes','Likes','Views']\n",
    "\n",
    "for ax,title in zip(plot_top_5.axes.flatten(),titles):\n",
    "    ax.set_title(title, fontsize = 15)\n",
    "\n",
    "plt.show()"
   ]
  },
  {
   "cell_type": "code",
   "execution_count": 8,
   "metadata": {},
   "outputs": [
    {
     "data": {
      "text/plain": [
       "array(['Szu_', 'Kolekcjoner_dusz', 'Mercurius', 'Szewczenko', 'rol-ex'],\n",
       "      dtype=object)"
      ]
     },
     "execution_count": 8,
     "metadata": {},
     "output_type": "execute_result"
    }
   ],
   "source": [
    "wykop[wykop.nickname.isin(top_5_users.index)]['nickname'].unique()"
   ]
  },
  {
   "cell_type": "markdown",
   "metadata": {},
   "source": [
    "### Top 5 most likeable articles"
   ]
  },
  {
   "cell_type": "code",
   "execution_count": 9,
   "metadata": {},
   "outputs": [
    {
     "data": {
      "text/html": [
       "<div>\n",
       "<style scoped>\n",
       "    .dataframe tbody tr th:only-of-type {\n",
       "        vertical-align: middle;\n",
       "    }\n",
       "\n",
       "    .dataframe tbody tr th {\n",
       "        vertical-align: top;\n",
       "    }\n",
       "\n",
       "    .dataframe thead th {\n",
       "        text-align: right;\n",
       "    }\n",
       "</style>\n",
       "<table border=\"1\" class=\"dataframe\">\n",
       "  <thead>\n",
       "    <tr style=\"text-align: right;\">\n",
       "      <th></th>\n",
       "      <th>dislikes</th>\n",
       "      <th>hashtags</th>\n",
       "      <th>likes</th>\n",
       "      <th>nickname</th>\n",
       "      <th>title</th>\n",
       "      <th>views</th>\n",
       "      <th>views_new</th>\n",
       "    </tr>\n",
       "  </thead>\n",
       "  <tbody>\n",
       "    <tr>\n",
       "      <th>41</th>\n",
       "      <td>22</td>\n",
       "      <td>europa,swiat</td>\n",
       "      <td>4138</td>\n",
       "      <td>dobrowolskii</td>\n",
       "      <td>Papież Franciszek o działaniach Władimira Puti...</td>\n",
       "      <td>43.5 tys.</td>\n",
       "      <td>43500.0</td>\n",
       "    </tr>\n",
       "    <tr>\n",
       "      <th>77</th>\n",
       "      <td>7</td>\n",
       "      <td>swiat,twitter,internet,elonmusk,gielda,inwestycje</td>\n",
       "      <td>3443</td>\n",
       "      <td>kasza332</td>\n",
       "      <td>Elon Musk dopiął swego. Twitter akceptuje waru...</td>\n",
       "      <td>35.3 tys.</td>\n",
       "      <td>35300.0</td>\n",
       "    </tr>\n",
       "    <tr>\n",
       "      <th>93</th>\n",
       "      <td>12</td>\n",
       "      <td>rosja,ukraina,wojna</td>\n",
       "      <td>3376</td>\n",
       "      <td>yosemitesam</td>\n",
       "      <td>Ukraina powołała komando do likwidacji rosyjsk...</td>\n",
       "      <td>24.4 tys.</td>\n",
       "      <td>24400.0</td>\n",
       "    </tr>\n",
       "    <tr>\n",
       "      <th>10</th>\n",
       "      <td>42</td>\n",
       "      <td>polska,krakow,drogi,polskiedrogi,motoryzacja</td>\n",
       "      <td>3078</td>\n",
       "      <td>DOgi</td>\n",
       "      <td>Wykopowicz wytknął błędy, teraz przeprojektują...</td>\n",
       "      <td>22.4 tys.</td>\n",
       "      <td>22400.0</td>\n",
       "    </tr>\n",
       "    <tr>\n",
       "      <th>35</th>\n",
       "      <td>4</td>\n",
       "      <td>europa,irlandia,wojna,rosja,ukraina,geopolityka</td>\n",
       "      <td>2255</td>\n",
       "      <td>Szu_</td>\n",
       "      <td>Wściekłość w Irlandii po atomowych groźbach w ...</td>\n",
       "      <td>13.2 tys.</td>\n",
       "      <td>13200.0</td>\n",
       "    </tr>\n",
       "  </tbody>\n",
       "</table>\n",
       "</div>"
      ],
      "text/plain": [
       "    dislikes                                           hashtags  likes  \\\n",
       "41        22                                       europa,swiat   4138   \n",
       "77         7  swiat,twitter,internet,elonmusk,gielda,inwestycje   3443   \n",
       "93        12                                rosja,ukraina,wojna   3376   \n",
       "10        42       polska,krakow,drogi,polskiedrogi,motoryzacja   3078   \n",
       "35         4    europa,irlandia,wojna,rosja,ukraina,geopolityka   2255   \n",
       "\n",
       "        nickname                                              title  \\\n",
       "41  dobrowolskii  Papież Franciszek o działaniach Władimira Puti...   \n",
       "77      kasza332  Elon Musk dopiął swego. Twitter akceptuje waru...   \n",
       "93   yosemitesam  Ukraina powołała komando do likwidacji rosyjsk...   \n",
       "10          DOgi  Wykopowicz wytknął błędy, teraz przeprojektują...   \n",
       "35          Szu_  Wściekłość w Irlandii po atomowych groźbach w ...   \n",
       "\n",
       "        views  views_new  \n",
       "41  43.5 tys.    43500.0  \n",
       "77  35.3 tys.    35300.0  \n",
       "93  24.4 tys.    24400.0  \n",
       "10  22.4 tys.    22400.0  \n",
       "35  13.2 tys.    13200.0  "
      ]
     },
     "execution_count": 9,
     "metadata": {},
     "output_type": "execute_result"
    }
   ],
   "source": [
    "wykop.sort_values(by = 'likes', ascending=False).head(5)"
   ]
  },
  {
   "cell_type": "markdown",
   "metadata": {},
   "source": [
    "### Top 5 most unlikeable articles"
   ]
  },
  {
   "cell_type": "code",
   "execution_count": 10,
   "metadata": {},
   "outputs": [
    {
     "data": {
      "text/html": [
       "<div>\n",
       "<style scoped>\n",
       "    .dataframe tbody tr th:only-of-type {\n",
       "        vertical-align: middle;\n",
       "    }\n",
       "\n",
       "    .dataframe tbody tr th {\n",
       "        vertical-align: top;\n",
       "    }\n",
       "\n",
       "    .dataframe thead th {\n",
       "        text-align: right;\n",
       "    }\n",
       "</style>\n",
       "<table border=\"1\" class=\"dataframe\">\n",
       "  <thead>\n",
       "    <tr style=\"text-align: right;\">\n",
       "      <th></th>\n",
       "      <th>dislikes</th>\n",
       "      <th>hashtags</th>\n",
       "      <th>likes</th>\n",
       "      <th>nickname</th>\n",
       "      <th>title</th>\n",
       "      <th>views</th>\n",
       "      <th>views_new</th>\n",
       "    </tr>\n",
       "  </thead>\n",
       "  <tbody>\n",
       "    <tr>\n",
       "      <th>44</th>\n",
       "      <td>161</td>\n",
       "      <td>polska,ukraina,rosja,ruskimir,wojna,internet</td>\n",
       "      <td>787</td>\n",
       "      <td>MglawicaKraba</td>\n",
       "      <td>43 portale nadają codziennie antyukraińską pro...</td>\n",
       "      <td>13.3 tys.</td>\n",
       "      <td>13300.0</td>\n",
       "    </tr>\n",
       "    <tr>\n",
       "      <th>38</th>\n",
       "      <td>101</td>\n",
       "      <td>franciszek,ukraina,wojna</td>\n",
       "      <td>1124</td>\n",
       "      <td>libertarian</td>\n",
       "      <td>Bojkot Kościoła katolickiego. Wciąż kontrowers...</td>\n",
       "      <td>10.7 tys.</td>\n",
       "      <td>10700.0</td>\n",
       "    </tr>\n",
       "    <tr>\n",
       "      <th>48</th>\n",
       "      <td>87</td>\n",
       "      <td>polska,ukraina,wojna,rosja,ciekawostki,ruskimir</td>\n",
       "      <td>504</td>\n",
       "      <td>Wiggum89</td>\n",
       "      <td>Polski ochotnik na wojnie w Ukrainie</td>\n",
       "      <td>19.5 tys.</td>\n",
       "      <td>19500.0</td>\n",
       "    </tr>\n",
       "    <tr>\n",
       "      <th>88</th>\n",
       "      <td>66</td>\n",
       "      <td>swiat,rosja,wojna,ciekawostki,heheszki,cocacola</td>\n",
       "      <td>1601</td>\n",
       "      <td>Wilson_</td>\n",
       "      <td>Ostatnia paleta</td>\n",
       "      <td>16.5 tys.</td>\n",
       "      <td>16500.0</td>\n",
       "    </tr>\n",
       "    <tr>\n",
       "      <th>87</th>\n",
       "      <td>52</td>\n",
       "      <td>europa,ukraina,beksinski,python,sztucznainteli...</td>\n",
       "      <td>427</td>\n",
       "      <td>Rainforest</td>\n",
       "      <td>Zdzisław Beksiński: \"Nadzieja na zgliszczach\"....</td>\n",
       "      <td>9.4 tys.</td>\n",
       "      <td>9400.0</td>\n",
       "    </tr>\n",
       "  </tbody>\n",
       "</table>\n",
       "</div>"
      ],
      "text/plain": [
       "    dislikes                                           hashtags  likes  \\\n",
       "44       161       polska,ukraina,rosja,ruskimir,wojna,internet    787   \n",
       "38       101                           franciszek,ukraina,wojna   1124   \n",
       "48        87    polska,ukraina,wojna,rosja,ciekawostki,ruskimir    504   \n",
       "88        66    swiat,rosja,wojna,ciekawostki,heheszki,cocacola   1601   \n",
       "87        52  europa,ukraina,beksinski,python,sztucznainteli...    427   \n",
       "\n",
       "         nickname                                              title  \\\n",
       "44  MglawicaKraba  43 portale nadają codziennie antyukraińską pro...   \n",
       "38    libertarian  Bojkot Kościoła katolickiego. Wciąż kontrowers...   \n",
       "48       Wiggum89               Polski ochotnik na wojnie w Ukrainie   \n",
       "88        Wilson_                                    Ostatnia paleta   \n",
       "87     Rainforest  Zdzisław Beksiński: \"Nadzieja na zgliszczach\"....   \n",
       "\n",
       "        views  views_new  \n",
       "44  13.3 tys.    13300.0  \n",
       "38  10.7 tys.    10700.0  \n",
       "48  19.5 tys.    19500.0  \n",
       "88  16.5 tys.    16500.0  \n",
       "87   9.4 tys.     9400.0  "
      ]
     },
     "execution_count": 10,
     "metadata": {},
     "output_type": "execute_result"
    }
   ],
   "source": [
    "wykop.sort_values(by = 'dislikes',ascending=False).head(5)"
   ]
  },
  {
   "cell_type": "markdown",
   "metadata": {},
   "source": [
    "### Hashtags division"
   ]
  },
  {
   "cell_type": "code",
   "execution_count": 11,
   "metadata": {},
   "outputs": [
    {
     "data": {
      "text/html": [
       "<div>\n",
       "<style scoped>\n",
       "    .dataframe tbody tr th:only-of-type {\n",
       "        vertical-align: middle;\n",
       "    }\n",
       "\n",
       "    .dataframe tbody tr th {\n",
       "        vertical-align: top;\n",
       "    }\n",
       "\n",
       "    .dataframe thead th {\n",
       "        text-align: right;\n",
       "    }\n",
       "</style>\n",
       "<table border=\"1\" class=\"dataframe\">\n",
       "  <thead>\n",
       "    <tr style=\"text-align: right;\">\n",
       "      <th></th>\n",
       "      <th>dislikes</th>\n",
       "      <th>hashtags</th>\n",
       "      <th>likes</th>\n",
       "      <th>nickname</th>\n",
       "      <th>title</th>\n",
       "      <th>views</th>\n",
       "      <th>views_new</th>\n",
       "      <th>hashtag_1</th>\n",
       "      <th>hashtag_2</th>\n",
       "      <th>hashtag_3</th>\n",
       "      <th>hashtag_4</th>\n",
       "      <th>hashtag_5</th>\n",
       "      <th>hashtag_6</th>\n",
       "      <th>hashtag_7</th>\n",
       "    </tr>\n",
       "  </thead>\n",
       "  <tbody>\n",
       "    <tr>\n",
       "      <th>0</th>\n",
       "      <td>0</td>\n",
       "      <td>technologia,nauka,zainteresowania,kosmos,mars,...</td>\n",
       "      <td>186</td>\n",
       "      <td>elektryk91</td>\n",
       "      <td>NASA ma problem z Ingenuity, marsjańskim wirol...</td>\n",
       "      <td>2.4 tys.</td>\n",
       "      <td>2400.0</td>\n",
       "      <td>technologia</td>\n",
       "      <td>nauka</td>\n",
       "      <td>zainteresowania</td>\n",
       "      <td>kosmos</td>\n",
       "      <td>mars</td>\n",
       "      <td>ciekawostki</td>\n",
       "      <td>NaN</td>\n",
       "    </tr>\n",
       "    <tr>\n",
       "      <th>1</th>\n",
       "      <td>0</td>\n",
       "      <td>rosja,historia,polityka,zbrodniekomunistyczne</td>\n",
       "      <td>86</td>\n",
       "      <td>Qtasus2Wielgus</td>\n",
       "      <td>Badacz zbrodni NKWD został wysłany do łagru</td>\n",
       "      <td>&lt;1 tys.</td>\n",
       "      <td>1000.0</td>\n",
       "      <td>rosja</td>\n",
       "      <td>historia</td>\n",
       "      <td>polityka</td>\n",
       "      <td>zbrodniekomunistyczne</td>\n",
       "      <td>NaN</td>\n",
       "      <td>NaN</td>\n",
       "      <td>NaN</td>\n",
       "    </tr>\n",
       "    <tr>\n",
       "      <th>2</th>\n",
       "      <td>14</td>\n",
       "      <td>polska,chlewobsranygownem</td>\n",
       "      <td>269</td>\n",
       "      <td>BennyHarvey</td>\n",
       "      <td>Łódzkie. Kradł znicze wrzucając do automatu st...</td>\n",
       "      <td>12.5 tys.</td>\n",
       "      <td>12500.0</td>\n",
       "      <td>polska</td>\n",
       "      <td>chlewobsranygownem</td>\n",
       "      <td>NaN</td>\n",
       "      <td>NaN</td>\n",
       "      <td>NaN</td>\n",
       "      <td>NaN</td>\n",
       "      <td>NaN</td>\n",
       "    </tr>\n",
       "    <tr>\n",
       "      <th>3</th>\n",
       "      <td>23</td>\n",
       "      <td>polska,kultura,rozrywka</td>\n",
       "      <td>359</td>\n",
       "      <td>Wirtualnemedia_pl</td>\n",
       "      <td>Polsat zrealizuje polską wersję „Sługi Narodu”</td>\n",
       "      <td>7.9 tys.</td>\n",
       "      <td>7900.0</td>\n",
       "      <td>polska</td>\n",
       "      <td>kultura</td>\n",
       "      <td>rozrywka</td>\n",
       "      <td>NaN</td>\n",
       "      <td>NaN</td>\n",
       "      <td>NaN</td>\n",
       "      <td>NaN</td>\n",
       "    </tr>\n",
       "    <tr>\n",
       "      <th>4</th>\n",
       "      <td>39</td>\n",
       "      <td>polska,technologia,amazon,afera</td>\n",
       "      <td>476</td>\n",
       "      <td>Mirxar</td>\n",
       "      <td>Strach coś zamawiać na Amazonie. Polacy płacą ...</td>\n",
       "      <td>13.4 tys.</td>\n",
       "      <td>13400.0</td>\n",
       "      <td>polska</td>\n",
       "      <td>technologia</td>\n",
       "      <td>amazon</td>\n",
       "      <td>afera</td>\n",
       "      <td>NaN</td>\n",
       "      <td>NaN</td>\n",
       "      <td>NaN</td>\n",
       "    </tr>\n",
       "  </tbody>\n",
       "</table>\n",
       "</div>"
      ],
      "text/plain": [
       "   dislikes                                           hashtags  likes  \\\n",
       "0         0  technologia,nauka,zainteresowania,kosmos,mars,...    186   \n",
       "1         0      rosja,historia,polityka,zbrodniekomunistyczne     86   \n",
       "2        14                          polska,chlewobsranygownem    269   \n",
       "3        23                            polska,kultura,rozrywka    359   \n",
       "4        39                    polska,technologia,amazon,afera    476   \n",
       "\n",
       "            nickname                                              title  \\\n",
       "0         elektryk91  NASA ma problem z Ingenuity, marsjańskim wirol...   \n",
       "1     Qtasus2Wielgus        Badacz zbrodni NKWD został wysłany do łagru   \n",
       "2        BennyHarvey  Łódzkie. Kradł znicze wrzucając do automatu st...   \n",
       "3  Wirtualnemedia_pl     Polsat zrealizuje polską wersję „Sługi Narodu”   \n",
       "4             Mirxar  Strach coś zamawiać na Amazonie. Polacy płacą ...   \n",
       "\n",
       "       views  views_new    hashtag_1           hashtag_2        hashtag_3  \\\n",
       "0   2.4 tys.     2400.0  technologia               nauka  zainteresowania   \n",
       "1    <1 tys.     1000.0        rosja            historia         polityka   \n",
       "2  12.5 tys.    12500.0       polska  chlewobsranygownem              NaN   \n",
       "3   7.9 tys.     7900.0       polska             kultura         rozrywka   \n",
       "4  13.4 tys.    13400.0       polska         technologia           amazon   \n",
       "\n",
       "               hashtag_4 hashtag_5    hashtag_6 hashtag_7  \n",
       "0                 kosmos      mars  ciekawostki       NaN  \n",
       "1  zbrodniekomunistyczne       NaN          NaN       NaN  \n",
       "2                    NaN       NaN          NaN       NaN  \n",
       "3                    NaN       NaN          NaN       NaN  \n",
       "4                  afera       NaN          NaN       NaN  "
      ]
     },
     "execution_count": 11,
     "metadata": {},
     "output_type": "execute_result"
    }
   ],
   "source": [
    "# Define how many additionals columns should we have\n",
    "\n",
    "def define_number_of_hashtag_cols():\n",
    "    \n",
    "    len_max = 0\n",
    "    \n",
    "    for i in range(len(wykop.hashtags)):\n",
    "        temp = len(wykop['hashtags'].str.split(',')[i])\n",
    "        if temp > len_max:\n",
    "            len_max = temp\n",
    "    return len_max\n",
    "\n",
    "def add_columns(no_of_new_cols):\n",
    "    \n",
    "    for i in range(no_of_new_cols):\n",
    "        wykop[f'hashtag_{i+1}'] = wykop['hashtags'].str.split(',').str[i]\n",
    "        \n",
    "    return wykop\n",
    "\n",
    "add_columns(define_number_of_hashtag_cols()).head()"
   ]
  },
  {
   "cell_type": "markdown",
   "metadata": {},
   "source": [
    "Now, we are going to calculate how many hashtags were used. We know, that one hashtag is a must, but our page can change dynamically. That's why, it is important to store in memory current number of scraped hashtags."
   ]
  },
  {
   "cell_type": "code",
   "execution_count": 36,
   "metadata": {},
   "outputs": [
    {
     "data": {
      "image/png": "[encoded data removed]",
      "text/plain": [
       "<Figure size 1152x504 with 1 Axes>"
      ]
     },
     "metadata": {
      "needs_background": "light"
     },
     "output_type": "display_data"
    }
   ],
   "source": [
    "temp = wykop.loc[:, 'hashtag_1':f'hashtag_{define_number_of_hashtag_cols()}'].apply(lambda x: sum(x.notna()))\n",
    "\n",
    "plt.figure(figsize = (16,7))\n",
    "ax = sns.barplot(temp.index, temp.values)\n",
    "ax.tick_params(labelsize = 15)\n",
    "\n",
    "for annot in ax.containers:\n",
    "    ax.bar_label(annot, label_type = \"center\", size = 20)\n",
    "plt.show()"
   ]
  },
  {
   "cell_type": "markdown",
   "metadata": {},
   "source": [
    "Until hashtag_4, we decided to show the 5 most frequently occurring words"
   ]
  },
  {
   "cell_type": "code",
   "execution_count": 32,
   "metadata": {},
   "outputs": [
    {
     "data": {
      "image/png": "[encoded data removed]",
      "text/plain": [
       "<Figure size 1008x1008 with 4 Axes>"
      ]
     },
     "metadata": {
      "needs_background": "light"
     },
     "output_type": "display_data"
    }
   ],
   "source": [
    "n_rows = 2\n",
    "n_cols = 2\n",
    "\n",
    "fig, axs = plt.subplots(n_rows, n_cols, figsize = (n_cols*7, n_rows*7))\n",
    "columns = wykop.loc[:, 'hashtag_1':'hashtag_6'].columns\n",
    "\n",
    "for rows in range(0, n_rows):\n",
    "    for cols in range(0, n_cols):\n",
    "        \n",
    "        temp = cols\n",
    "        ax = axs[rows][cols]\n",
    "        palette = ['viridis', 'plasma']\n",
    "        temp_counts = wykop[columns[cols+rows if rows==0 else rows+cols+1]].value_counts().head()\n",
    "        sns.barplot(temp_counts.index, temp_counts.values, ax=ax, palette = palette[cols])\n",
    "        ax.set_title('Countplot for {}'.format(columns[cols+rows if rows==0 else rows+cols+1]), fontsize = 20)\n",
    "        ax.tick_params(labelsize = 13)"
   ]
  },
  {
   "cell_type": "markdown",
   "metadata": {},
   "source": [
    "Let's check, if we can obtain something from title section."
   ]
  },
  {
   "cell_type": "code",
   "execution_count": 15,
   "metadata": {},
   "outputs": [
    {
     "data": {
      "text/plain": [
       "Polska      3\n",
       "Węgry       2\n",
       "W           2\n",
       "Ukraińcy    2\n",
       "Ukraina     2\n",
       "Name: title, dtype: int64"
      ]
     },
     "execution_count": 15,
     "metadata": {},
     "output_type": "execute_result"
    }
   ],
   "source": [
    "check_title = wykop.title.apply(lambda x: x.split(' ')[0]).value_counts().head()\n",
    "check_title"
   ]
  },
  {
   "cell_type": "markdown",
   "metadata": {},
   "source": [
    "Unluckily, not at all."
   ]
  },
  {
   "cell_type": "code",
   "execution_count": null,
   "metadata": {},
   "outputs": [],
   "source": []
  }
 ],
 "metadata": {
  "kernelspec": {
   "display_name": "Python 3",
   "language": "python",
   "name": "python3"
  },
  "language_info": {
   "codemirror_mode": {
    "name": "ipython",
    "version": 3
   },
   "file_extension": ".py",
   "mimetype": "text/x-python",
   "name": "python",
   "nbconvert_exporter": "python",
   "pygments_lexer": "ipython3",
   "version": "3.8.5"
  }
 },
 "nbformat": 4,
 "nbformat_minor": 4
}
